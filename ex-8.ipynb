{
 "cells": [
  {
   "cell_type": "markdown",
   "metadata": {},
   "source": [
    "### This exercice is related to exercice 7"
   ]
  },
  {
   "cell_type": "code",
   "execution_count": 2,
   "metadata": {},
   "outputs": [],
   "source": [
    "from sklearn.datasets import make_moons\n",
    "from sklearn.model_selection import  train_test_split\n",
    "\n",
    "X, y = make_moons(n_samples=125000, noise=0.4, random_state=42) # in order to generate 1,000 subsets of the training set each containing 100 instances after the split\n",
    "\n",
    "\n",
    "X_train, X_test, y_train, y_test = train_test_split(X, y, test_size=0.2, random_state=42)"
   ]
  },
  {
   "cell_type": "markdown",
   "metadata": {},
   "source": [
    "### We create shuffled subsets of the data"
   ]
  },
  {
   "cell_type": "code",
   "execution_count": 6,
   "metadata": {},
   "outputs": [
    {
     "name": "stdout",
     "output_type": "stream",
     "text": [
      "Number of Subsets: 1000\n",
      "Size of One Subset (X): (100, 2)\n",
      "Size of One Subset (y): (100,)\n"
     ]
    }
   ],
   "source": [
    "from sklearn.model_selection import ShuffleSplit\n",
    "\n",
    "shuffle_split = ShuffleSplit(n_splits=1000, train_size=100, random_state=42)\n",
    "\n",
    "subsets = []\n",
    "\n",
    "for train_index, _ in shuffle_split.split(X_train, y_train): # this method generates random train indices 1000 times because of n_splits \n",
    "    subset_X = X_train[train_index]\n",
    "    subset_y = y_train[train_index]\n",
    "    subsets.append((subset_X, subset_y))\n",
    "    \n",
    "\n",
    "print(\"Number of Subsets:\", len(subsets))\n",
    "\n",
    "print(\"Size of One Subset (X):\", subsets[0][0].shape)\n",
    "print(\"Size of One Subset (y):\", subsets[0][1].shape)"
   ]
  },
  {
   "cell_type": "markdown",
   "metadata": {},
   "source": [
    "### Now we train one Decision Tree on each subset"
   ]
  },
  {
   "cell_type": "code",
   "execution_count": 7,
   "metadata": {},
   "outputs": [
    {
     "name": "stdout",
     "output_type": "stream",
     "text": [
      "Number of Trained Decision Trees: 1000\n"
     ]
    }
   ],
   "source": [
    "from sklearn.tree import DecisionTreeClassifier\n",
    "\n",
    "trained_trees = []\n",
    "\n",
    "for subset_X, subset_y in subsets:\n",
    "    tree_classifier = DecisionTreeClassifier(max_leaf_nodes=20, random_state=42)\n",
    "    \n",
    "    tree_classifier.fit(subset_X, subset_y)\n",
    "    \n",
    "    trained_trees.append(tree_classifier)\n",
    "\n",
    "print(\"Number of Trained Decision Trees:\", len(trained_trees))\n"
   ]
  },
  {
   "cell_type": "markdown",
   "metadata": {},
   "source": [
    "### Now we evaluate them on the test sets "
   ]
  },
  {
   "cell_type": "code",
   "execution_count": 8,
   "metadata": {},
   "outputs": [
    {
     "name": "stdout",
     "output_type": "stream",
     "text": [
      "Average Test Set Accuracy: 0.7914484400000008\n"
     ]
    }
   ],
   "source": [
    "from sklearn.metrics import accuracy_score\n",
    "\n",
    "test_set_accuracies = []\n",
    "\n",
    "for tree_classifier in trained_trees:\n",
    "    y_pred = tree_classifier.predict(X_test)\n",
    "    \n",
    "    accuracy = accuracy_score(y_test, y_pred)\n",
    "    \n",
    "    test_set_accuracies.append(accuracy)\n",
    "\n",
    "average_accuracy = sum(test_set_accuracies) / len(test_set_accuracies)\n",
    "print(\"Average Test Set Accuracy:\", average_accuracy)\n"
   ]
  },
  {
   "cell_type": "markdown",
   "metadata": {},
   "source": [
    "### Now for each test set instance, we generate the predictions of the 1,000 Decision Trees, and we keep only the most frequent prediction"
   ]
  },
  {
   "cell_type": "code",
   "execution_count": null,
   "metadata": {},
   "outputs": [],
   "source": [
    "import numpy as np\n",
    "from scipy.stats import mode\n",
    "\n",
    "majority_vote_predictions = []\n",
    "\n",
    "for i in range(len(X_test)):\n",
    "    tree_predictions = [tree.predict(X_test[i:i+1])[0] for tree in trained_trees]\n",
    "    \n",
    "    mode_prediction = mode(tree_predictions).mode[0]\n",
    "    \n",
    "    majority_vote_predictions.append(mode_prediction)\n",
    "\n",
    "majority_vote_predictions = np.array(majority_vote_predictions)\n",
    "\n",
    "print(\"Shape of Majority-Vote Predictions:\", majority_vote_predictions.shape)\n"
   ]
  }
 ],
 "metadata": {
  "kernelspec": {
   "display_name": "base",
   "language": "python",
   "name": "python3"
  },
  "language_info": {
   "codemirror_mode": {
    "name": "ipython",
    "version": 3
   },
   "file_extension": ".py",
   "mimetype": "text/x-python",
   "name": "python",
   "nbconvert_exporter": "python",
   "pygments_lexer": "ipython3",
   "version": "3.9.13"
  },
  "orig_nbformat": 4
 },
 "nbformat": 4,
 "nbformat_minor": 2
}
